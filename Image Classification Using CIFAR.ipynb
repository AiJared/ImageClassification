{
 "cells": [
  {
   "cell_type": "markdown",
   "id": "3fe02d36",
   "metadata": {},
   "source": [
    "# Image Classification 1"
   ]
  },
  {
   "cell_type": "code",
   "execution_count": 1,
   "id": "a02df7db",
   "metadata": {},
   "outputs": [],
   "source": [
    "# imports\n",
    "from __future__ import print_function\n",
    "import keras\n",
    "from keras.datasets import cifar10\n",
    "from keras.preprocessing.image import ImageDataGenerator\n",
    "from keras.models import Sequential\n",
    "from keras.layers import Dense, Dropout, Activation\n",
    "from keras.layers import Conv2D, MaxPooling2D, GlobalMaxPooling2D"
   ]
  },
  {
   "cell_type": "code",
   "execution_count": 2,
   "id": "3eb4ebdd",
   "metadata": {},
   "outputs": [],
   "source": [
    "batch_size = 32\n",
    "num_classes = 10\n",
    "epochs = 100\n",
    "data_augmentation = True"
   ]
  },
  {
   "cell_type": "markdown",
   "id": "b93fe9e6",
   "metadata": {},
   "source": [
    "## The data shuffled and Split between trian and test sets"
   ]
  },
  {
   "cell_type": "code",
   "execution_count": 3,
   "id": "032c42f7",
   "metadata": {},
   "outputs": [
    {
     "name": "stdout",
     "output_type": "stream",
     "text": [
      "x_train shape:  (50000, 32, 32, 3)\n",
      "50000 train samples\n",
      "10000 test samples\n"
     ]
    }
   ],
   "source": [
    "(x_train, y_train), (x_test, y_test) = cifar10.load_data()\n",
    "print('x_train shape: ', x_train.shape)\n",
    "print(x_train.shape[0], \"train samples\")\n",
    "print(x_test.shape[0], \"test samples\")\n",
    "\n",
    "# Convert class vectors to binary class matrices\n",
    "y_train = keras.utils.to_categorical(y_train, num_classes)\n",
    "y_test = keras.utils.to_categorical(y_test, num_classes)"
   ]
  },
  {
   "cell_type": "code",
   "execution_count": 5,
   "id": "5415a503",
   "metadata": {},
   "outputs": [
    {
     "name": "stdout",
     "output_type": "stream",
     "text": [
      "Model: \"sequential_3\"\n",
      "_________________________________________________________________\n",
      " Layer (type)                Output Shape              Param #   \n",
      "=================================================================\n",
      " conv2d_2 (Conv2D)           (None, 32, 32, 32)        896       \n",
      "                                                                 \n",
      " activation_2 (Activation)   (None, 32, 32, 32)        0         \n",
      "                                                                 \n",
      " conv2d_3 (Conv2D)           (None, 32, 32, 48)        13872     \n",
      "                                                                 \n",
      " activation_3 (Activation)   (None, 32, 32, 48)        0         \n",
      "                                                                 \n",
      " max_pooling2d_1 (MaxPooling  (None, 16, 16, 48)       0         \n",
      " 2D)                                                             \n",
      "                                                                 \n",
      " dropout (Dropout)           (None, 16, 16, 48)        0         \n",
      "                                                                 \n",
      " conv2d_4 (Conv2D)           (None, 16, 16, 80)        34640     \n",
      "                                                                 \n",
      " activation_4 (Activation)   (None, 16, 16, 80)        0         \n",
      "                                                                 \n",
      " max_pooling2d_2 (MaxPooling  (None, 8, 8, 80)         0         \n",
      " 2D)                                                             \n",
      "                                                                 \n",
      " dropout_1 (Dropout)         (None, 8, 8, 80)          0         \n",
      "                                                                 \n",
      " conv2d_5 (Conv2D)           (None, 8, 8, 128)         92288     \n",
      "                                                                 \n",
      " global_max_pooling2d (Globa  (None, 128)              0         \n",
      " lMaxPooling2D)                                                  \n",
      "                                                                 \n",
      " dropout_2 (Dropout)         (None, 128)               0         \n",
      "                                                                 \n",
      " dense (Dense)               (None, 500)               64500     \n",
      "                                                                 \n",
      " activation_5 (Activation)   (None, 500)               0         \n",
      "                                                                 \n",
      " dropout_3 (Dropout)         (None, 500)               0         \n",
      "                                                                 \n",
      " dense_1 (Dense)             (None, 10)                5010      \n",
      "                                                                 \n",
      " activation_6 (Activation)   (None, 10)                0         \n",
      "                                                                 \n",
      "=================================================================\n",
      "Total params: 211,206\n",
      "Trainable params: 211,206\n",
      "Non-trainable params: 0\n",
      "_________________________________________________________________\n"
     ]
    },
    {
     "name": "stderr",
     "output_type": "stream",
     "text": [
      "C:\\Users\\ojare\\anaconda3\\envs\\tensorflow\\lib\\site-packages\\keras\\optimizers\\optimizer_v2\\adam.py:110: UserWarning: The `lr` argument is deprecated, use `learning_rate` instead.\n",
      "  super(Adam, self).__init__(name, **kwargs)\n"
     ]
    }
   ],
   "source": [
    "model = Sequential()\n",
    "\n",
    "model = Sequential()\n",
    "model.add(Conv2D(32, (3,3), padding='same',\n",
    "                input_shape=x_train.shape[1:]))\n",
    "model.add(Activation('relu'))\n",
    "model.add(Conv2D(48, (3,3), padding='same',\n",
    "                input_shape=x_train.shape[1:]))\n",
    "model.add(Activation('relu'))\n",
    "model.add(MaxPooling2D(pool_size=(2,2)))\n",
    "model.add(Dropout(0.25))\n",
    "model.add(Conv2D(80, (3,3), padding='same',\n",
    "                input_shape=x_train.shape[1:]))\n",
    "model.add(Activation('relu'))\n",
    "model.add(MaxPooling2D(pool_size=(2,2)))\n",
    "model.add(Dropout(0.25))\n",
    "model.add(Conv2D(128, (3,3), padding='same',\n",
    "                input_shape=x_train.shape[1:]))\n",
    "model.add(GlobalMaxPooling2D())\n",
    "model.add(Dropout(0.25))\n",
    "model.add(Dense(500))\n",
    "model.add(Activation('relu'))\n",
    "model.add(Dropout(0.25))\n",
    "model.add(Dense(num_classes))\n",
    "model.add(Activation('softmax'))\n",
    "\n",
    "# initiate RMSprop optimizer\n",
    "opt = keras.optimizers.Adam(lr=0.0001)\n",
    "\n",
    "# let's train the model using RMSprop\n",
    "model.compile(loss='categorical_crossentropy',\n",
    "             optimizer=opt,\n",
    "             metrics=['Accuracy'])\n",
    "model.summary()"
   ]
  },
  {
   "cell_type": "code",
   "execution_count": 8,
   "id": "3f042c8c",
   "metadata": {},
   "outputs": [],
   "source": [
    "x_train = x_train.astype('float32')\n",
    "x_test = x_test.astype('float32')\n",
    "x_train /= 255\n",
    "x_test /= 255\n",
    "tbCallBack = keras.callbacks.TensorBoard(log_dir='.Graph2', histogram_freq=0, write_graph=True, write_images=True)"
   ]
  },
  {
   "cell_type": "code",
   "execution_count": null,
   "id": "40747577",
   "metadata": {},
   "outputs": [
    {
     "name": "stdout",
     "output_type": "stream",
     "text": [
      "Using real-time data augmentation.\n"
     ]
    },
    {
     "name": "stderr",
     "output_type": "stream",
     "text": [
      "C:\\Users\\ojare\\AppData\\Local\\Temp\\ipykernel_6312\\1495373156.py:40: UserWarning: `Model.fit_generator` is deprecated and will be removed in a future version. Please use `Model.fit`, which supports generators.\n",
      "  model.fit_generator(datagen.flow(x_train, y_train,\n"
     ]
    },
    {
     "name": "stdout",
     "output_type": "stream",
     "text": [
      "Epoch 1/100\n",
      "1562/1562 [==============================] - 481s 304ms/step - loss: 2.3027 - Accuracy: 0.0969 - val_loss: 2.3026 - val_Accuracy: 0.1000\n",
      "Epoch 2/100\n",
      "1562/1562 [==============================] - 485s 311ms/step - loss: 2.3027 - Accuracy: 0.0981 - val_loss: 2.3026 - val_Accuracy: 0.1000\n",
      "Epoch 3/100\n",
      "1562/1562 [==============================] - 519s 332ms/step - loss: 2.3027 - Accuracy: 0.0986 - val_loss: 2.3026 - val_Accuracy: 0.1000\n",
      "Epoch 4/100\n",
      "1562/1562 [==============================] - 482s 309ms/step - loss: 2.3027 - Accuracy: 0.0973 - val_loss: 2.3026 - val_Accuracy: 0.1000\n",
      "Epoch 5/100\n",
      "1562/1562 [==============================] - 491s 315ms/step - loss: 2.3027 - Accuracy: 0.0990 - val_loss: 2.3026 - val_Accuracy: 0.1000\n",
      "Epoch 6/100\n",
      "1562/1562 [==============================] - 495s 317ms/step - loss: 2.3027 - Accuracy: 0.0988 - val_loss: 2.3026 - val_Accuracy: 0.1000\n",
      "Epoch 7/100\n",
      " 945/1562 [=================>............] - ETA: 3:04 - loss: 2.3027 - Accuracy: 0.1013"
     ]
    }
   ],
   "source": [
    "if not data_augmentation:\n",
    "    print('Not using data augmentation.')\n",
    "    model.fit(x_train, y_train,\n",
    "             batch_size=batch_size,\n",
    "             epochs=epochs,\n",
    "             validation_data=(x_test, y_test),\n",
    "             shuffle=True, callbacks=[tbCallBack])\n",
    "else:\n",
    "    print(\"Using real-time data augmentation.\")\n",
    "    \"\"\"\n",
    "    datagen = ImageDataGenerator(\n",
    "        featurewise_center=False, # set input to 0 over the dataset\n",
    "        samplewise_center=False, # set each sample mean to 0\n",
    "        featurewise_std_normalization=False, # divide inputs by the std of the dataset\n",
    "        samplewise_std_normalization=False, # divide each inputs by its standard\n",
    "        zca_whitening=False, # apply ZCA whitening\n",
    "        rotation_range=0, # randomly rotate images in the range(degrees 0, 180)\n",
    "        width_shift_range=0.1, # randomly shift images horizantally(fraction of total width)\n",
    "        height_shift_range=0.1, # randoemly shift images vertically (fraction of total height)\n",
    "        horizontal_flip=True, # randomly flip images\n",
    "        vertical_flip=True) # randomly flip images\n",
    "    \"\"\"\n",
    "    datagen = ImageDataGenerator(\n",
    "        featurewise_center=False, # set input to 0 over the dataset\n",
    "        samplewise_center=False, # set each sample mean to 0\n",
    "        featurewise_std_normalization=False, # divide inputs by the std of the dataset\n",
    "        samplewise_std_normalization=False, # divide each input by its std\n",
    "        zca_whitening=False, # apply ZCA whitening\n",
    "        rotation_range=10, # randomly rotate images in the range(degrees, 0 to 180)\n",
    "        width_shift_range=0.2, # randomly shift images horizontally(fraction of total width)\n",
    "        height_shift_range=0.2, # randomly shift images vertically(fraction of the total height)\n",
    "        horizontal_flip=True, # randomly flip images\n",
    "        vertical_flip=False) # randomly flip images\n",
    "\n",
    "    # compute quantities required for featurewise normalization\n",
    "    # (mean, std and principal components if ZCA whitening is applied)\n",
    "    datagen.fit(x_train)\n",
    "    \n",
    "    # fit the model on the batches generated by datagen.flow()\n",
    "    model.fit_generator(datagen.flow(x_train, y_train,\n",
    "                                    batch_size=batch_size),\n",
    "                       steps_per_epoch=x_train.shape[0] // batch_size,\n",
    "                       epochs=epochs,\n",
    "                       validation_data=(x_test, y_test), callbacks=[tbCallBack])\n",
    "        \n",
    "    "
   ]
  },
  {
   "cell_type": "code",
   "execution_count": null,
   "id": "ad857857",
   "metadata": {},
   "outputs": [],
   "source": []
  }
 ],
 "metadata": {
  "kernelspec": {
   "display_name": "Python 3 (ipykernel)",
   "language": "python",
   "name": "python3"
  },
  "language_info": {
   "codemirror_mode": {
    "name": "ipython",
    "version": 3
   },
   "file_extension": ".py",
   "mimetype": "text/x-python",
   "name": "python",
   "nbconvert_exporter": "python",
   "pygments_lexer": "ipython3",
   "version": "3.10.6"
  }
 },
 "nbformat": 4,
 "nbformat_minor": 5
}
