{
  "cells": [
    {
      "cell_type": "markdown",
      "id": "3fe02d36",
      "metadata": {
        "id": "3fe02d36"
      },
      "source": [
        "# Image Classification 1"
      ]
    },
    {
      "cell_type": "code",
      "execution_count": 4,
      "id": "a02df7db",
      "metadata": {
        "id": "a02df7db"
      },
      "outputs": [],
      "source": [
        "# imports\n",
        "from __future__ import print_function\n",
        "import keras\n",
        "from keras.datasets import cifar10\n",
        "from keras.preprocessing.image import ImageDataGenerator\n",
        "from keras.models import Sequential\n",
        "from keras.layers import Dense, Dropout, Activation\n",
        "from keras.layers import Conv2D, MaxPooling2D, GlobalMaxPooling2D"
      ]
    },
    {
      "cell_type": "code",
      "execution_count": 5,
      "id": "3eb4ebdd",
      "metadata": {
        "id": "3eb4ebdd"
      },
      "outputs": [],
      "source": [
        "batch_size = 32\n",
        "num_classes = 10\n",
        "epochs = 100\n",
        "data_augmentation = True"
      ]
    },
    {
      "cell_type": "markdown",
      "id": "b93fe9e6",
      "metadata": {
        "id": "b93fe9e6"
      },
      "source": [
        "## The data shuffled and Split between trian and test sets"
      ]
    },
    {
      "cell_type": "code",
      "execution_count": 6,
      "id": "032c42f7",
      "metadata": {
        "colab": {
          "base_uri": "https://localhost:8080/"
        },
        "id": "032c42f7",
        "outputId": "cc8702f0-e6bb-4bdc-d900-d877c681af38"
      },
      "outputs": [
        {
          "output_type": "stream",
          "name": "stdout",
          "text": [
            "Downloading data from https://www.cs.toronto.edu/~kriz/cifar-10-python.tar.gz\n",
            "170498071/170498071 [==============================] - 4s 0us/step\n",
            "x_train shape:  (50000, 32, 32, 3)\n",
            "50000 train samples\n",
            "10000 test samples\n"
          ]
        }
      ],
      "source": [
        "(x_train, y_train), (x_test, y_test) = cifar10.load_data()\n",
        "print('x_train shape: ', x_train.shape)\n",
        "print(x_train.shape[0], \"train samples\")\n",
        "print(x_test.shape[0], \"test samples\")\n",
        "\n",
        "# Convert class vectors to binary class matrices\n",
        "y_train = keras.utils.to_categorical(y_train, num_classes)\n",
        "y_test = keras.utils.to_categorical(y_test, num_classes)"
      ]
    },
    {
      "cell_type": "code",
      "execution_count": 7,
      "id": "5415a503",
      "metadata": {
        "colab": {
          "base_uri": "https://localhost:8080/"
        },
        "id": "5415a503",
        "outputId": "248a45b5-6aad-4c2b-c0c8-4352f26f1100"
      },
      "outputs": [
        {
          "output_type": "stream",
          "name": "stdout",
          "text": [
            "Model: \"sequential_1\"\n",
            "_________________________________________________________________\n",
            " Layer (type)                Output Shape              Param #   \n",
            "=================================================================\n",
            " conv2d (Conv2D)             (None, 32, 32, 32)        896       \n",
            "                                                                 \n",
            " activation (Activation)     (None, 32, 32, 32)        0         \n",
            "                                                                 \n",
            " conv2d_1 (Conv2D)           (None, 32, 32, 48)        13872     \n",
            "                                                                 \n",
            " activation_1 (Activation)   (None, 32, 32, 48)        0         \n",
            "                                                                 \n",
            " max_pooling2d (MaxPooling2D  (None, 16, 16, 48)       0         \n",
            " )                                                               \n",
            "                                                                 \n",
            " dropout (Dropout)           (None, 16, 16, 48)        0         \n",
            "                                                                 \n",
            " conv2d_2 (Conv2D)           (None, 16, 16, 80)        34640     \n",
            "                                                                 \n",
            " activation_2 (Activation)   (None, 16, 16, 80)        0         \n",
            "                                                                 \n",
            " max_pooling2d_1 (MaxPooling  (None, 8, 8, 80)         0         \n",
            " 2D)                                                             \n",
            "                                                                 \n",
            " dropout_1 (Dropout)         (None, 8, 8, 80)          0         \n",
            "                                                                 \n",
            " conv2d_3 (Conv2D)           (None, 8, 8, 128)         92288     \n",
            "                                                                 \n",
            " global_max_pooling2d (Globa  (None, 128)              0         \n",
            " lMaxPooling2D)                                                  \n",
            "                                                                 \n",
            " dropout_2 (Dropout)         (None, 128)               0         \n",
            "                                                                 \n",
            " dense (Dense)               (None, 500)               64500     \n",
            "                                                                 \n",
            " activation_3 (Activation)   (None, 500)               0         \n",
            "                                                                 \n",
            " dropout_3 (Dropout)         (None, 500)               0         \n",
            "                                                                 \n",
            " dense_1 (Dense)             (None, 10)                5010      \n",
            "                                                                 \n",
            " activation_4 (Activation)   (None, 10)                0         \n",
            "                                                                 \n",
            "=================================================================\n",
            "Total params: 211,206\n",
            "Trainable params: 211,206\n",
            "Non-trainable params: 0\n",
            "_________________________________________________________________\n"
          ]
        },
        {
          "output_type": "stream",
          "name": "stderr",
          "text": [
            "/usr/local/lib/python3.7/dist-packages/keras/optimizers/optimizer_v2/adam.py:110: UserWarning: The `lr` argument is deprecated, use `learning_rate` instead.\n",
            "  super(Adam, self).__init__(name, **kwargs)\n"
          ]
        }
      ],
      "source": [
        "model = Sequential()\n",
        "\n",
        "model = Sequential()\n",
        "model.add(Conv2D(32, (3,3), padding='same',\n",
        "                input_shape=x_train.shape[1:]))\n",
        "model.add(Activation('relu'))\n",
        "model.add(Conv2D(48, (3,3), padding='same',\n",
        "                input_shape=x_train.shape[1:]))\n",
        "model.add(Activation('relu'))\n",
        "model.add(MaxPooling2D(pool_size=(2,2)))\n",
        "model.add(Dropout(0.25))\n",
        "model.add(Conv2D(80, (3,3), padding='same',\n",
        "                input_shape=x_train.shape[1:]))\n",
        "model.add(Activation('relu'))\n",
        "model.add(MaxPooling2D(pool_size=(2,2)))\n",
        "model.add(Dropout(0.25))\n",
        "model.add(Conv2D(128, (3,3), padding='same',\n",
        "                input_shape=x_train.shape[1:]))\n",
        "model.add(GlobalMaxPooling2D())\n",
        "model.add(Dropout(0.25))\n",
        "model.add(Dense(500))\n",
        "model.add(Activation('relu'))\n",
        "model.add(Dropout(0.25))\n",
        "model.add(Dense(num_classes))\n",
        "model.add(Activation('softmax'))\n",
        "\n",
        "# initiate RMSprop optimizer\n",
        "opt = keras.optimizers.Adam(lr=0.0001)\n",
        "\n",
        "# let's train the model using RMSprop\n",
        "model.compile(loss='categorical_crossentropy',\n",
        "             optimizer=opt,\n",
        "             metrics=['Accuracy'])\n",
        "model.summary()"
      ]
    },
    {
      "cell_type": "code",
      "execution_count": 8,
      "id": "3f042c8c",
      "metadata": {
        "id": "3f042c8c"
      },
      "outputs": [],
      "source": [
        "x_train = x_train.astype('float32')\n",
        "x_test = x_test.astype('float32')\n",
        "x_train /= 255\n",
        "x_test /= 255\n",
        "tbCallBack = keras.callbacks.TensorBoard(log_dir='.Graph2', histogram_freq=0, write_graph=True, write_images=True)"
      ]
    },
    {
      "cell_type": "code",
      "execution_count": null,
      "id": "40747577",
      "metadata": {
        "colab": {
          "base_uri": "https://localhost:8080/"
        },
        "id": "40747577",
        "outputId": "db4414a1-f9ed-49e2-a081-3136a22ca4a5"
      },
      "outputs": [
        {
          "metadata": {
            "tags": null
          },
          "name": "stdout",
          "output_type": "stream",
          "text": [
            "Using real-time data augmentation.\n",
            "Epoch 1/100\n"
          ]
        },
        {
          "metadata": {
            "tags": null
          },
          "name": "stderr",
          "output_type": "stream",
          "text": [
            "/usr/local/lib/python3.7/dist-packages/ipykernel_launcher.py:44: UserWarning: `Model.fit_generator` is deprecated and will be removed in a future version. Please use `Model.fit`, which supports generators.\n"
          ]
        },
        {
          "output_type": "stream",
          "name": "stdout",
          "text": [
            "1562/1562 [==============================] - 332s 212ms/step - loss: 2.0438 - Accuracy: 0.2289 - val_loss: 1.7684 - val_Accuracy: 0.3644\n",
            "Epoch 2/100\n",
            "1562/1562 [==============================] - 341s 219ms/step - loss: 1.7667 - Accuracy: 0.3417 - val_loss: 1.6518 - val_Accuracy: 0.3864\n",
            "Epoch 3/100\n",
            "1562/1562 [==============================] - 339s 217ms/step - loss: 1.6517 - Accuracy: 0.3932 - val_loss: 1.4749 - val_Accuracy: 0.4623\n",
            "Epoch 4/100\n",
            "1562/1562 [==============================] - 345s 221ms/step - loss: 1.5712 - Accuracy: 0.4223 - val_loss: 1.4128 - val_Accuracy: 0.4826\n",
            "Epoch 5/100\n",
            "1562/1562 [==============================] - 341s 218ms/step - loss: 1.5093 - Accuracy: 0.4470 - val_loss: 1.3548 - val_Accuracy: 0.5012\n",
            "Epoch 6/100\n",
            "1562/1562 [==============================] - 341s 218ms/step - loss: 1.4559 - Accuracy: 0.4698 - val_loss: 1.3172 - val_Accuracy: 0.5160\n",
            "Epoch 7/100\n",
            "1562/1562 [==============================] - 337s 215ms/step - loss: 1.4096 - Accuracy: 0.4868 - val_loss: 1.2903 - val_Accuracy: 0.5260\n",
            "Epoch 8/100\n",
            "1562/1562 [==============================] - 343s 219ms/step - loss: 1.3721 - Accuracy: 0.5028 - val_loss: 1.2311 - val_Accuracy: 0.5535\n",
            "Epoch 9/100\n",
            "1562/1562 [==============================] - 339s 217ms/step - loss: 1.3329 - Accuracy: 0.5208 - val_loss: 1.1854 - val_Accuracy: 0.5708\n",
            "Epoch 10/100\n",
            "1562/1562 [==============================] - 347s 222ms/step - loss: 1.2990 - Accuracy: 0.5314 - val_loss: 1.1601 - val_Accuracy: 0.5849\n",
            "Epoch 11/100\n",
            "1562/1562 [==============================] - 349s 223ms/step - loss: 1.2591 - Accuracy: 0.5451 - val_loss: 1.1427 - val_Accuracy: 0.5901\n",
            "Epoch 12/100\n",
            "1562/1562 [==============================] - 340s 217ms/step - loss: 1.2319 - Accuracy: 0.5571 - val_loss: 1.1050 - val_Accuracy: 0.6035\n",
            "Epoch 13/100\n",
            "1562/1562 [==============================] - 336s 215ms/step - loss: 1.2062 - Accuracy: 0.5671 - val_loss: 1.0686 - val_Accuracy: 0.6203\n",
            "Epoch 14/100\n",
            "1562/1562 [==============================] - 330s 211ms/step - loss: 1.1816 - Accuracy: 0.5758 - val_loss: 1.0759 - val_Accuracy: 0.6164\n",
            "Epoch 15/100\n",
            "1562/1562 [==============================] - 330s 211ms/step - loss: 1.1505 - Accuracy: 0.5884 - val_loss: 0.9953 - val_Accuracy: 0.6419\n",
            "Epoch 16/100\n",
            "1562/1562 [==============================] - 342s 219ms/step - loss: 1.1314 - Accuracy: 0.5953 - val_loss: 1.0067 - val_Accuracy: 0.6433\n",
            "Epoch 17/100\n",
            "1562/1562 [==============================] - 342s 219ms/step - loss: 1.1097 - Accuracy: 0.6050 - val_loss: 1.1228 - val_Accuracy: 0.6030\n",
            "Epoch 18/100\n",
            "1562/1562 [==============================] - 345s 221ms/step - loss: 1.0917 - Accuracy: 0.6121 - val_loss: 0.9630 - val_Accuracy: 0.6531\n",
            "Epoch 19/100\n",
            "1562/1562 [==============================] - 337s 216ms/step - loss: 1.0766 - Accuracy: 0.6162 - val_loss: 0.9381 - val_Accuracy: 0.6667\n",
            "Epoch 20/100\n",
            "1562/1562 [==============================] - 333s 213ms/step - loss: 1.0586 - Accuracy: 0.6250 - val_loss: 0.9066 - val_Accuracy: 0.6755\n",
            "Epoch 21/100\n",
            "1562/1562 [==============================] - 334s 214ms/step - loss: 1.0444 - Accuracy: 0.6316 - val_loss: 0.9345 - val_Accuracy: 0.6658\n",
            "Epoch 22/100\n",
            "1562/1562 [==============================] - 335s 214ms/step - loss: 1.0236 - Accuracy: 0.6359 - val_loss: 0.9542 - val_Accuracy: 0.6600\n",
            "Epoch 23/100\n",
            "1562/1562 [==============================] - 343s 220ms/step - loss: 1.0124 - Accuracy: 0.6413 - val_loss: 0.9627 - val_Accuracy: 0.6604\n",
            "Epoch 24/100\n",
            "1562/1562 [==============================] - 334s 214ms/step - loss: 0.9997 - Accuracy: 0.6427 - val_loss: 0.8640 - val_Accuracy: 0.6910\n",
            "Epoch 25/100\n",
            "1562/1562 [==============================] - 341s 218ms/step - loss: 0.9891 - Accuracy: 0.6474 - val_loss: 0.8370 - val_Accuracy: 0.7015\n",
            "Epoch 26/100\n",
            "1562/1562 [==============================] - 340s 218ms/step - loss: 0.9790 - Accuracy: 0.6547 - val_loss: 0.8875 - val_Accuracy: 0.6826\n",
            "Epoch 27/100\n",
            "1562/1562 [==============================] - 335s 214ms/step - loss: 0.9624 - Accuracy: 0.6591 - val_loss: 0.8406 - val_Accuracy: 0.6951\n",
            "Epoch 28/100\n",
            "1562/1562 [==============================] - 338s 216ms/step - loss: 0.9556 - Accuracy: 0.6593 - val_loss: 0.8823 - val_Accuracy: 0.6857\n",
            "Epoch 29/100\n",
            "1562/1562 [==============================] - 337s 215ms/step - loss: 0.9449 - Accuracy: 0.6656 - val_loss: 0.8295 - val_Accuracy: 0.7024\n",
            "Epoch 30/100\n",
            "1562/1562 [==============================] - 352s 225ms/step - loss: 0.9369 - Accuracy: 0.6669 - val_loss: 0.8079 - val_Accuracy: 0.7128\n",
            "Epoch 31/100\n",
            "1562/1562 [==============================] - 338s 216ms/step - loss: 0.9252 - Accuracy: 0.6733 - val_loss: 0.8276 - val_Accuracy: 0.7073\n",
            "Epoch 32/100\n",
            "1562/1562 [==============================] - 344s 220ms/step - loss: 0.9189 - Accuracy: 0.6753 - val_loss: 0.8174 - val_Accuracy: 0.7088\n",
            "Epoch 33/100\n",
            "1562/1562 [==============================] - 345s 221ms/step - loss: 0.9078 - Accuracy: 0.6809 - val_loss: 0.8060 - val_Accuracy: 0.7109\n",
            "Epoch 34/100\n",
            "1562/1562 [==============================] - 348s 222ms/step - loss: 0.9009 - Accuracy: 0.6794 - val_loss: 0.8052 - val_Accuracy: 0.7117\n",
            "Epoch 35/100\n",
            "1562/1562 [==============================] - 347s 222ms/step - loss: 0.8917 - Accuracy: 0.6830 - val_loss: 0.7691 - val_Accuracy: 0.7229\n",
            "Epoch 36/100\n",
            "1562/1562 [==============================] - 348s 223ms/step - loss: 0.8878 - Accuracy: 0.6866 - val_loss: 0.7776 - val_Accuracy: 0.7191\n",
            "Epoch 37/100\n",
            "1562/1562 [==============================] - 349s 224ms/step - loss: 0.8768 - Accuracy: 0.6891 - val_loss: 0.7714 - val_Accuracy: 0.7243\n",
            "Epoch 38/100\n",
            "1562/1562 [==============================] - 345s 221ms/step - loss: 0.8644 - Accuracy: 0.6967 - val_loss: 0.7956 - val_Accuracy: 0.7121\n",
            "Epoch 39/100\n",
            "1562/1562 [==============================] - 334s 214ms/step - loss: 0.8635 - Accuracy: 0.6961 - val_loss: 0.7785 - val_Accuracy: 0.7238\n",
            "Epoch 40/100\n",
            "1562/1562 [==============================] - 345s 221ms/step - loss: 0.8501 - Accuracy: 0.7020 - val_loss: 0.7942 - val_Accuracy: 0.7152\n",
            "Epoch 41/100\n",
            "1562/1562 [==============================] - 342s 219ms/step - loss: 0.8450 - Accuracy: 0.7012 - val_loss: 0.7503 - val_Accuracy: 0.7377\n",
            "Epoch 42/100\n",
            "1562/1562 [==============================] - 340s 218ms/step - loss: 0.8420 - Accuracy: 0.7053 - val_loss: 0.7357 - val_Accuracy: 0.7379\n",
            "Epoch 43/100\n",
            "1562/1562 [==============================] - 333s 213ms/step - loss: 0.8401 - Accuracy: 0.7023 - val_loss: 0.7485 - val_Accuracy: 0.7373\n",
            "Epoch 44/100\n",
            "1562/1562 [==============================] - 333s 213ms/step - loss: 0.8230 - Accuracy: 0.7092 - val_loss: 0.7188 - val_Accuracy: 0.7509\n",
            "Epoch 45/100\n",
            "1562/1562 [==============================] - 337s 216ms/step - loss: 0.8199 - Accuracy: 0.7124 - val_loss: 0.7066 - val_Accuracy: 0.7492\n",
            "Epoch 46/100\n",
            "1099/1562 [====================>.........] - ETA: 1:35 - loss: 0.8193 - Accuracy: 0.7145"
          ]
        }
      ],
      "source": [
        "if not data_augmentation:\n",
        "    print('Not using data augmentation.')\n",
        "    model.fit(x_train, y_train,\n",
        "             batch_size=batch_size,\n",
        "             epochs=epochs,\n",
        "             validation_data=(x_test, y_test),\n",
        "             shuffle=True, callbacks=[tbCallBack])\n",
        "else:\n",
        "    print(\"Using real-time data augmentation.\")\n",
        "    \"\"\"\n",
        "    datagen = ImageDataGenerator(\n",
        "        featurewise_center=False, # set input to 0 over the dataset\n",
        "        samplewise_center=False, # set each sample mean to 0\n",
        "        featurewise_std_normalization=False, # divide inputs by the std of the dataset\n",
        "        samplewise_std_normalization=False, # divide each inputs by its standard\n",
        "        zca_whitening=False, # apply ZCA whitening\n",
        "        rotation_range=0, # randomly rotate images in the range(degrees 0, 180)\n",
        "        width_shift_range=0.1, # randomly shift images horizantally(fraction of total width)\n",
        "        height_shift_range=0.1, # randoemly shift images vertically (fraction of total height)\n",
        "        horizontal_flip=True, # randomly flip images\n",
        "        vertical_flip=True) # randomly flip images\n",
        "    \"\"\"\n",
        "    datagen = ImageDataGenerator(\n",
        "        featurewise_center=False, # set input to 0 over the dataset\n",
        "        samplewise_center=False, # set each sample mean to 0\n",
        "        featurewise_std_normalization=False, # divide inputs by the std of the dataset\n",
        "        samplewise_std_normalization=False, # divide each input by its std\n",
        "        zca_whitening=False, # apply ZCA whitening\n",
        "        rotation_range=10, # randomly rotate images in the range(degrees, 0 to 180)\n",
        "        width_shift_range=0.2, # randomly shift images horizontally(fraction of total width)\n",
        "        height_shift_range=0.2, # randomly shift images vertically(fraction of the total height)\n",
        "        horizontal_flip=True, # randomly flip images\n",
        "        vertical_flip=False) # randomly flip images\n",
        "\n",
        "    # compute quantities required for featurewise normalization\n",
        "    # (mean, std and principal components if ZCA whitening is applied)\n",
        "    datagen.fit(x_train)\n",
        "    \n",
        "    # fit the model on the batches generated by datagen.flow()\n",
        "    model.fit_generator(datagen.flow(x_train, y_train,\n",
        "                                    batch_size=batch_size),\n",
        "                       steps_per_epoch=x_train.shape[0] // batch_size,\n",
        "                       epochs=epochs,\n",
        "                       validation_data=(x_test, y_test), callbacks=[tbCallBack])\n",
        "        \n",
        "    "
      ]
    },
    {
      "cell_type": "code",
      "execution_count": null,
      "id": "ad857857",
      "metadata": {
        "id": "ad857857"
      },
      "outputs": [],
      "source": []
    }
  ],
  "metadata": {
    "kernelspec": {
      "display_name": "Python 3 (ipykernel)",
      "language": "python",
      "name": "python3"
    },
    "language_info": {
      "codemirror_mode": {
        "name": "ipython",
        "version": 3
      },
      "file_extension": ".py",
      "mimetype": "text/x-python",
      "name": "python",
      "nbconvert_exporter": "python",
      "pygments_lexer": "ipython3",
      "version": "3.10.6"
    },
    "colab": {
      "provenance": []
    }
  },
  "nbformat": 4,
  "nbformat_minor": 5
}