{
  "nbformat": 4,
  "nbformat_minor": 0,
  "metadata": {
    "colab": {
      "provenance": [],
      "authorship_tag": "ABX9TyMYeYy1tHBDtX6mTdPNB7HQ",
      "include_colab_link": true
    },
    "kernelspec": {
      "name": "python3",
      "display_name": "Python 3"
    },
    "language_info": {
      "name": "python"
    }
  },
  "cells": [
    {
      "cell_type": "markdown",
      "metadata": {
        "id": "view-in-github",
        "colab_type": "text"
      },
      "source": [
        "<a href=\"https://colab.research.google.com/github/Kerriea-star/ImageClassification/blob/master/ImageClassifier2.ipynb\" target=\"_parent\"><img src=\"https://colab.research.google.com/assets/colab-badge.svg\" alt=\"Open In Colab\"/></a>"
      ]
    },
    {
      "cell_type": "code",
      "execution_count": 1,
      "metadata": {
        "colab": {
          "base_uri": "https://localhost:8080/"
        },
        "id": "fHQkPJbT99N-",
        "outputId": "f4715318-b638-417c-ed45-29e9c8ed4d25"
      },
      "outputs": [
        {
          "output_type": "stream",
          "name": "stdout",
          "text": [
            "Downloading data from https://www.cs.toronto.edu/~kriz/cifar-10-python.tar.gz\n",
            "170498071/170498071 [==============================] - 4s 0us/step\n",
            "x_train shape:  (50000, 32, 32, 3)\n",
            "50000 train samples\n",
            "10000 test, samples\n"
          ]
        }
      ],
      "source": [
        "from __future__ import print_function\n",
        "import keras\n",
        "from keras.datasets import cifar10\n",
        "from keras.preprocessing.image import ImageDataGenerator\n",
        "from keras.models import Sequential\n",
        "from keras.layers import Dense, Dropout, Activation\n",
        "from keras.layers import Conv2D, MaxPooling2D, GlobalMaxPool2D, BatchNormalization\n",
        "\n",
        "batch_size = 32\n",
        "num_classes = 10\n",
        "\n",
        "# epochs = 1600\n",
        "\n",
        "data_augmentation = True\n",
        "\n",
        "# The data shuffled and split between train and test sets\n",
        "(x_train, y_train), (x_test, y_test) = cifar10.load_data()\n",
        "print('x_train shape: ', x_train.shape)\n",
        "print(x_train.shape[0], 'train samples')\n",
        "print(x_test.shape[0], 'test, samples')"
      ]
    },
    {
      "cell_type": "code",
      "source": [
        "# convert class vectors to binary class matrices\n",
        "y_train = keras.utils.to_categorical(y_train, num_classes)\n",
        "y_test = keras.utils.to_categorical(y_test, num_classes)"
      ],
      "metadata": {
        "id": "qASbYk_REkW3"
      },
      "execution_count": 2,
      "outputs": []
    },
    {
      "cell_type": "code",
      "source": [
        "x_train = x_train.astype('float32')\n",
        "x_test = x_test.astype('float32')\n",
        "x_train /= 255\n",
        "x_test /= 255"
      ],
      "metadata": {
        "id": "tdAspchGFpQn"
      },
      "execution_count": 4,
      "outputs": []
    },
    {
      "cell_type": "markdown",
      "source": [
        "Case1: relu,softmax,rmsprop,50 epochs"
      ],
      "metadata": {
        "id": "Ta9n3tUqHh4z"
      }
    },
    {
      "cell_type": "code",
      "source": [
        "model = Sequential()\n",
        "\n",
        "model.add(Conv2D(32, (3,3), kernel_initializer='random_normal',\n",
        "                 input_shape=x_train.shape[1:]))\n",
        "model.add(Activation('relu'))\n",
        "model.add(Conv2D(32, (3,3), kernel_initializer='random_normal',\n",
        "                 input_shape=x_train.shape[1:]))\n",
        "model.add(Activation('relu'))\n",
        "model.add(Conv2D(32, (3,3), kernel_initializer='random_normal',\n",
        "                 input_shape=x_train.shape[1:]))\n",
        "model.add(Activation('relu'))\n",
        "model.add(Conv2D(48, (3,3), kernel_initializer='random_normal',\n",
        "                 input_shape=x_train.shape[1:]))\n",
        "model.add(Activation('relu'))\n",
        "model.add(Conv2D(48, (3,3), kernel_initializer='random_normal',\n",
        "                 input_shape=x_train.shape[1:]))\n",
        "model.add(Activation('relu'))\n",
        "model.add(GlobalMaxPool2D())\n",
        "model.add(Dense(500))\n",
        "model.add(Dropout(0.25))\n",
        "model.add(Dense(num_classes))\n",
        "model.add(Activation('softmax'))\n",
        "model.summary()"
      ],
      "metadata": {
        "colab": {
          "base_uri": "https://localhost:8080/"
        },
        "id": "kECbcgK7F5v4",
        "outputId": "6fe135aa-d43f-4289-ac53-addc32751264"
      },
      "execution_count": 7,
      "outputs": [
        {
          "output_type": "stream",
          "name": "stdout",
          "text": [
            "Model: \"sequential_2\"\n",
            "_________________________________________________________________\n",
            " Layer (type)                Output Shape              Param #   \n",
            "=================================================================\n",
            " conv2d_2 (Conv2D)           (None, 30, 30, 32)        896       \n",
            "                                                                 \n",
            " activation_2 (Activation)   (None, 30, 30, 32)        0         \n",
            "                                                                 \n",
            " conv2d_3 (Conv2D)           (None, 28, 28, 32)        9248      \n",
            "                                                                 \n",
            " activation_3 (Activation)   (None, 28, 28, 32)        0         \n",
            "                                                                 \n",
            " conv2d_4 (Conv2D)           (None, 26, 26, 32)        9248      \n",
            "                                                                 \n",
            " activation_4 (Activation)   (None, 26, 26, 32)        0         \n",
            "                                                                 \n",
            " conv2d_5 (Conv2D)           (None, 24, 24, 48)        13872     \n",
            "                                                                 \n",
            " activation_5 (Activation)   (None, 24, 24, 48)        0         \n",
            "                                                                 \n",
            " conv2d_6 (Conv2D)           (None, 22, 22, 48)        20784     \n",
            "                                                                 \n",
            " activation_6 (Activation)   (None, 22, 22, 48)        0         \n",
            "                                                                 \n",
            " global_max_pooling2d (Globa  (None, 48)               0         \n",
            " lMaxPooling2D)                                                  \n",
            "                                                                 \n",
            " dense (Dense)               (None, 500)               24500     \n",
            "                                                                 \n",
            " dropout (Dropout)           (None, 500)               0         \n",
            "                                                                 \n",
            " dense_1 (Dense)             (None, 10)                5010      \n",
            "                                                                 \n",
            " activation_7 (Activation)   (None, 10)                0         \n",
            "                                                                 \n",
            "=================================================================\n",
            "Total params: 83,558\n",
            "Trainable params: 83,558\n",
            "Non-trainable params: 0\n",
            "_________________________________________________________________\n"
          ]
        }
      ]
    },
    {
      "cell_type": "code",
      "source": [
        "# opt = keras.optimizers.RMSProp(lr=0.0001)\n",
        "model.compile(loss='categorical_crossentropy',\n",
        "              optimizer='RMSProp',\n",
        "              metrics=['Accuracy'])"
      ],
      "metadata": {
        "id": "lOUmw_nvHe6x"
      },
      "execution_count": 8,
      "outputs": []
    },
    {
      "cell_type": "code",
      "source": [
        "m1 = model.fit(x_train, y_train,\n",
        "               batch_size=batch_size,\n",
        "               epochs=50,\n",
        "               validation_data = (x_test, y_test),\n",
        "               shuffle=True)"
      ],
      "metadata": {
        "colab": {
          "base_uri": "https://localhost:8080/"
        },
        "id": "w3n-ni_BHND3",
        "outputId": "aa93f08e-87b2-4b2f-a3cb-d9a970b6130f"
      },
      "execution_count": null,
      "outputs": [
        {
          "output_type": "stream",
          "name": "stdout",
          "text": [
            "Epoch 1/50\n",
            "1563/1563 [==============================] - 351s 224ms/step - loss: 1.8748 - Accuracy: 0.2959 - val_loss: 1.7391 - val_Accuracy: 0.3633\n",
            "Epoch 2/50\n",
            "1563/1563 [==============================] - 342s 219ms/step - loss: 1.4963 - Accuracy: 0.4526 - val_loss: 1.3863 - val_Accuracy: 0.4850\n",
            "Epoch 3/50\n",
            "1563/1563 [==============================] - 345s 221ms/step - loss: 1.3426 - Accuracy: 0.5162 - val_loss: 1.3538 - val_Accuracy: 0.5097\n",
            "Epoch 4/50\n",
            "1563/1563 [==============================] - 357s 228ms/step - loss: 1.2574 - Accuracy: 0.5493 - val_loss: 1.2466 - val_Accuracy: 0.5594\n",
            "Epoch 5/50\n",
            "1563/1563 [==============================] - 361s 231ms/step - loss: 1.1976 - Accuracy: 0.5711 - val_loss: 1.2251 - val_Accuracy: 0.5565\n",
            "Epoch 6/50\n",
            "1563/1563 [==============================] - 350s 224ms/step - loss: 1.1539 - Accuracy: 0.5900 - val_loss: 1.2481 - val_Accuracy: 0.5712\n",
            "Epoch 7/50\n",
            "1563/1563 [==============================] - 352s 225ms/step - loss: 1.1180 - Accuracy: 0.6025 - val_loss: 1.1801 - val_Accuracy: 0.5824\n",
            "Epoch 8/50\n",
            "1563/1563 [==============================] - 354s 226ms/step - loss: 1.0850 - Accuracy: 0.6146 - val_loss: 1.2091 - val_Accuracy: 0.5753\n",
            "Epoch 9/50\n",
            "1563/1563 [==============================] - 354s 226ms/step - loss: 1.0612 - Accuracy: 0.6241 - val_loss: 1.1499 - val_Accuracy: 0.5925\n",
            "Epoch 10/50\n",
            "1563/1563 [==============================] - 354s 226ms/step - loss: 1.0410 - Accuracy: 0.6332 - val_loss: 1.1041 - val_Accuracy: 0.6110\n",
            "Epoch 11/50\n",
            "1563/1563 [==============================] - 355s 227ms/step - loss: 1.0130 - Accuracy: 0.6414 - val_loss: 1.1005 - val_Accuracy: 0.6078\n",
            "Epoch 12/50\n",
            "1563/1563 [==============================] - 355s 227ms/step - loss: 1.0013 - Accuracy: 0.6450 - val_loss: 1.1050 - val_Accuracy: 0.6070\n",
            "Epoch 13/50\n",
            "1563/1563 [==============================] - 355s 227ms/step - loss: 0.9729 - Accuracy: 0.6557 - val_loss: 1.0782 - val_Accuracy: 0.6237\n",
            "Epoch 14/50\n",
            "1563/1563 [==============================] - 364s 233ms/step - loss: 0.9612 - Accuracy: 0.6608 - val_loss: 1.1190 - val_Accuracy: 0.6094\n",
            "Epoch 15/50\n",
            "1563/1563 [==============================] - 365s 234ms/step - loss: 0.9470 - Accuracy: 0.6661 - val_loss: 1.2620 - val_Accuracy: 0.5846\n",
            "1563/1563 [==============================] - 365s 234ms/step - loss: 0.9470 - Accuracy: 0.6661 - val_loss: 1.2620 - val_Accuracy: 0.5846\n",
            "Epoch 16/50\n",
            "Epoch 16/50\n",
            "1563/1563 [==============================] - 361s 231ms/step - loss: 0.9297 - Accuracy: 0.6718 - val_loss: 1.2408 - val_Accuracy: 0.5818\n",
            "1563/1563 [==============================] - 361s 231ms/step - loss: 0.9297 - Accuracy: 0.6718 - val_loss: 1.2408 - val_Accuracy: 0.5818\n",
            "Epoch 17/50\n",
            "Epoch 17/50\n",
            "1563/1563 [==============================] - 359s 230ms/step - loss: 0.9185 - Accuracy: 0.6751 - val_loss: 1.0473 - val_Accuracy: 0.6283\n",
            "1563/1563 [==============================] - 359s 230ms/step - loss: 0.9185 - Accuracy: 0.6751 - val_loss: 1.0473 - val_Accuracy: 0.6283\n",
            "Epoch 18/50\n",
            "Epoch 18/50\n",
            "1563/1563 [==============================] - 357s 228ms/step - loss: 0.9050 - Accuracy: 0.6816 - val_loss: 1.1156 - val_Accuracy: 0.6172\n",
            "1563/1563 [==============================] - 357s 228ms/step - loss: 0.9050 - Accuracy: 0.6816 - val_loss: 1.1156 - val_Accuracy: 0.6172\n",
            "Epoch 19/50\n",
            "Epoch 19/50\n",
            " 683/1563 [============>.................] - ETA: 3:12 - loss: 0.8860 - Accuracy: 0.6891"
          ]
        }
      ]
    },
    {
      "cell_type": "code",
      "source": [],
      "metadata": {
        "id": "HGTPzTzQLt7E"
      },
      "execution_count": null,
      "outputs": []
    }
  ]
}